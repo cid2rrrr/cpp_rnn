{
 "cells": [
  {
   "cell_type": "code",
   "execution_count": 1,
   "metadata": {},
   "outputs": [],
   "source": [
    "import tensorflow as tf\n",
    "from keras.layers import Dense\n",
    "import json\n",
    "import numpy as np\n",
    "import librosa\n",
    "import pandas as pd\n",
    "from model_utils import save_model"
   ]
  },
  {
   "cell_type": "code",
   "execution_count": 2,
   "metadata": {},
   "outputs": [],
   "source": [
    "from tensorflow import keras"
   ]
  },
  {
   "cell_type": "code",
   "execution_count": 3,
   "metadata": {},
   "outputs": [],
   "source": [
    "import glob\n",
    "import soundfile"
   ]
  },
  {
   "cell_type": "code",
   "execution_count": 47,
   "metadata": {},
   "outputs": [
    {
     "data": {
      "text/plain": [
       "array([ 6.5707300e-06,  3.4268778e-06, -1.4703763e-06, ...,\n",
       "        1.3547251e-06,  1.1079610e-06,  9.1189868e-06], dtype=float32)"
      ]
     },
     "execution_count": 47,
     "metadata": {},
     "output_type": "execute_result"
    }
   ],
   "source": [
    "y, sr = librosa.load('/Users/cooky/Desktop/data/02-03.wav')\n",
    "y"
   ]
  },
  {
   "cell_type": "code",
   "execution_count": 4,
   "metadata": {},
   "outputs": [
    {
     "name": "stdout",
     "output_type": "stream",
     "text": [
      "0\n",
      "0.68489426\n",
      "-0.6581681\n",
      "1\n",
      "0.65787685\n",
      "-0.63718987\n",
      "2\n",
      "1.0353678\n",
      "-1.0510951\n",
      "3\n",
      "1.0874541\n",
      "-1.0620916\n",
      "4\n",
      "0.9818718\n",
      "-0.9783458\n",
      "5\n",
      "1.0505552\n",
      "-0.98955077\n",
      "6\n",
      "0.98871905\n",
      "-0.9707296\n",
      "7\n",
      "1.0080343\n",
      "-0.9800307\n",
      "8\n",
      "1.0094304\n",
      "-1.0193173\n",
      "9\n",
      "1.016585\n",
      "-0.99791545\n",
      "10\n",
      "0.37009746\n",
      "-0.4280415\n",
      "11\n",
      "0.44889787\n",
      "-0.52701026\n",
      "12\n",
      "0.31235188\n",
      "-0.50525594\n",
      "13\n",
      "0.51289785\n",
      "-0.50687844\n",
      "14\n",
      "1.044419\n",
      "-0.8235012\n",
      "15\n",
      "1.001747\n",
      "-0.9962708\n",
      "16\n",
      "1.0246911\n",
      "-1.048015\n",
      "17\n",
      "0.73426086\n",
      "-0.7601719\n",
      "18\n",
      "1.0061857\n",
      "-0.9301044\n",
      "19\n",
      "0.9574974\n",
      "-1.0005014\n",
      "20\n",
      "1.0237501\n",
      "-1.0219729\n",
      "21\n",
      "0.82687724\n",
      "-0.75175816\n",
      "22\n",
      "0.8284106\n",
      "-0.79243577\n",
      "23\n",
      "0.72521424\n",
      "-0.65278095\n",
      "24\n",
      "0.6610688\n",
      "-0.6092189\n",
      "25\n",
      "0.8150219\n",
      "-0.77616274\n",
      "26\n",
      "0.30358335\n",
      "-0.28720614\n",
      "27\n",
      "0.80046046\n",
      "-0.85944706\n",
      "28\n",
      "0.7441885\n",
      "-0.83397543\n",
      "29\n",
      "0.7010561\n",
      "-0.6755326\n",
      "30\n",
      "0.78778726\n",
      "-0.62524736\n",
      "31\n",
      "0.8573344\n",
      "-0.91760314\n",
      "32\n",
      "0.93862724\n",
      "-0.91508114\n",
      "33\n",
      "0.8137678\n",
      "-0.8642007\n",
      "34\n",
      "0.5354991\n",
      "-0.5389247\n",
      "35\n",
      "0.6721084\n",
      "-0.7246859\n",
      "36\n",
      "0.40343222\n",
      "-0.3587649\n",
      "37\n",
      "0.37280142\n",
      "-0.40261877\n",
      "38\n",
      "0.7427456\n",
      "-0.7412466\n",
      "39\n",
      "0.28842014\n",
      "-0.27153316\n",
      "40\n",
      "0.43958533\n",
      "-0.33414754\n",
      "41\n",
      "0.7914406\n",
      "-0.90825963\n",
      "42\n",
      "0.4494268\n",
      "-0.33946696\n",
      "43\n",
      "0.48013702\n",
      "-0.6089565\n",
      "44\n",
      "0.43744558\n",
      "-0.38994163\n",
      "45\n",
      "0.16909388\n",
      "-0.17441696\n",
      "46\n",
      "0.89097786\n",
      "-0.46557745\n",
      "47\n",
      "1.0064677\n",
      "-0.417534\n",
      "48\n",
      "0.86106277\n",
      "-0.4220646\n",
      "49\n",
      "0.5198003\n",
      "-0.48514777\n",
      "50\n",
      "0.5898354\n",
      "-0.5329498\n",
      "51\n",
      "0.57055855\n",
      "-0.5986115\n",
      "52\n",
      "0.5014691\n",
      "-0.6331707\n",
      "53\n",
      "0.5000625\n",
      "-0.5004122\n",
      "54\n",
      "0.42117494\n",
      "-0.42800328\n",
      "55\n",
      "0.23197299\n",
      "-0.24920115\n",
      "56\n",
      "0.875364\n",
      "-0.8909055\n",
      "57\n",
      "0.37389278\n",
      "-0.35116938\n",
      "58\n",
      "0.29910272\n",
      "-0.32441705\n",
      "59\n",
      "0.5898462\n",
      "-0.66607666\n",
      "60\n",
      "0.95329714\n",
      "-0.95053315\n",
      "61\n",
      "0.94078827\n",
      "-0.9496598\n",
      "62\n",
      "0.9473637\n",
      "-0.9463343\n",
      "63\n",
      "1.0096698\n",
      "-0.99250007\n",
      "64\n",
      "0.9370229\n",
      "-0.95246446\n",
      "65\n",
      "0.9641993\n",
      "-0.9579917\n",
      "66\n",
      "0.9416319\n",
      "-0.95942295\n",
      "67\n",
      "1.0702798\n",
      "-1.0695243\n"
     ]
    }
   ],
   "source": [
    "X_input = []\n",
    "x_label = []\n",
    "y_output = []\n",
    "\n",
    "for i in range(68):\n",
    "    x, sr_x = librosa.load('/Users/cooky/Desktop/data/'+str(i).zfill(2)+'.wav', mono=True)\n",
    "    # x = np.transpose(x)[0]\n",
    "    chg = glob.glob('/Users/cooky/Desktop/data/'+str(i).zfill(2)+'-*.wav')[0]\n",
    "    y, sr_y = librosa.load(chg, mono=True)\n",
    "    # y = np.transpose(y)[0]\n",
    "    if (len(y) != len(x)) or (sr_x != sr_y):\n",
    "        print('Err ' + str(i))\n",
    "    else:\n",
    "        print(i)\n",
    "        print(x.max())\n",
    "        print(x.min())\n",
    "        X_input.extend(x[:1000])\n",
    "        y_output.extend(y[:1000])\n",
    "        for _ in range(1000):\n",
    "            x_label.append(int(chg[-6:-4]))"
   ]
  },
  {
   "cell_type": "code",
   "execution_count": 5,
   "metadata": {},
   "outputs": [],
   "source": [
    "X_input = np.array(X_input)\n",
    "y_output = np.array(y_output)\n",
    "x_label = np.array(x_label)"
   ]
  },
  {
   "cell_type": "code",
   "execution_count": 7,
   "metadata": {},
   "outputs": [],
   "source": [
    "X_inputt = np.vstack((X_input,x_label)).T\n",
    "# X_inputt = X_input.reshape((X_input.shape[0],1))\n",
    "y_outputt = y_output.reshape((y_output.shape[0],1))"
   ]
  },
  {
   "cell_type": "code",
   "execution_count": 8,
   "metadata": {},
   "outputs": [
    {
     "data": {
      "text/plain": [
       "array([7.44158251e-06, 1.00000000e+00])"
      ]
     },
     "execution_count": 8,
     "metadata": {},
     "output_type": "execute_result"
    }
   ],
   "source": [
    "X_inputt[1]"
   ]
  },
  {
   "cell_type": "code",
   "execution_count": 9,
   "metadata": {},
   "outputs": [
    {
     "data": {
      "text/plain": [
       "array([-1.460835e-07], dtype=float32)"
      ]
     },
     "execution_count": 9,
     "metadata": {},
     "output_type": "execute_result"
    }
   ],
   "source": [
    "y_outputt[1]"
   ]
  },
  {
   "cell_type": "code",
   "execution_count": 17,
   "metadata": {},
   "outputs": [],
   "source": [
    "model = keras.Sequential()\n",
    "model.add(keras.layers.InputLayer(input_shape=(None, 2)))\n",
    "model.add(keras.layers.Reshape(target_shape=(2, 1)))\n",
    "model.add(keras.layers.Dense(4, activation='relu', kernel_initializer='random_normal', bias_initializer='random_normal'))\n",
    "model.add(keras.layers.Dense(8, activation='relu', kernel_initializer='random_normal', bias_initializer='random_normal'))\n",
    "model.add(keras.layers.Conv1D(4, 3, dilation_rate=2,padding='same', activation='relu', kernel_initializer='glorot_uniform', bias_initializer='random_normal'))\n",
    "model.add(keras.layers.Flatten())\n",
    "model.add(keras.layers.Dense(1, kernel_initializer='orthogonal', bias_initializer='random_normal', activation='tanh'))"
   ]
  },
  {
   "cell_type": "code",
   "execution_count": 18,
   "metadata": {},
   "outputs": [
    {
     "name": "stderr",
     "output_type": "stream",
     "text": [
      "WARNING:absl:At this time, the v2.11+ optimizer `tf.keras.optimizers.RMSprop` runs slowly on M1/M2 Macs, please use the legacy Keras optimizer instead, located at `tf.keras.optimizers.legacy.RMSprop`.\n",
      "WARNING:absl:There is a known slowdown when using v2.11+ Keras optimizers on M1/M2 Macs. Falling back to the legacy Keras optimizer, i.e., `tf.keras.optimizers.legacy.RMSprop`.\n"
     ]
    }
   ],
   "source": [
    "model.compile(optimizer=tf.keras.optimizers.RMSprop(0.001), loss='mse', metrics=['mse','mae'])"
   ]
  },
  {
   "cell_type": "code",
   "execution_count": 19,
   "metadata": {},
   "outputs": [
    {
     "name": "stdout",
     "output_type": "stream",
     "text": [
      "Epoch 1/20\n",
      "3825/3825 [==============================] - 2s 464us/step - loss: 0.0077 - mse: 0.0077 - mae: 0.0350 - val_loss: 0.0302 - val_mse: 0.0302 - val_mae: 0.0705\n",
      "Epoch 2/20\n",
      "3825/3825 [==============================] - 2s 438us/step - loss: 0.0076 - mse: 0.0076 - mae: 0.0347 - val_loss: 0.0298 - val_mse: 0.0298 - val_mae: 0.0606\n",
      "Epoch 3/20\n",
      "3825/3825 [==============================] - 2s 442us/step - loss: 0.0076 - mse: 0.0076 - mae: 0.0350 - val_loss: 0.0298 - val_mse: 0.0298 - val_mae: 0.0635\n",
      "Epoch 4/20\n",
      "3825/3825 [==============================] - 2s 448us/step - loss: 0.0076 - mse: 0.0076 - mae: 0.0349 - val_loss: 0.0297 - val_mse: 0.0297 - val_mae: 0.0618\n",
      "Epoch 5/20\n",
      "3825/3825 [==============================] - 2s 450us/step - loss: 0.0076 - mse: 0.0076 - mae: 0.0347 - val_loss: 0.0297 - val_mse: 0.0297 - val_mae: 0.0608\n",
      "Epoch 6/20\n",
      "3825/3825 [==============================] - 2s 438us/step - loss: 0.0076 - mse: 0.0076 - mae: 0.0347 - val_loss: 0.0299 - val_mse: 0.0299 - val_mae: 0.0653\n",
      "Epoch 7/20\n",
      "3825/3825 [==============================] - 2s 444us/step - loss: 0.0076 - mse: 0.0076 - mae: 0.0347 - val_loss: 0.0297 - val_mse: 0.0297 - val_mae: 0.0660\n",
      "Epoch 8/20\n",
      "3825/3825 [==============================] - 2s 435us/step - loss: 0.0076 - mse: 0.0076 - mae: 0.0347 - val_loss: 0.0297 - val_mse: 0.0297 - val_mae: 0.0629\n",
      "Epoch 9/20\n",
      "3727/3825 [============================>.] - ETA: 0s - loss: 0.0076 - mse: 0.0076 - mae: 0.0348"
     ]
    },
    {
     "ename": "KeyboardInterrupt",
     "evalue": "",
     "output_type": "error",
     "traceback": [
      "\u001b[0;31m---------------------------------------------------------------------------\u001b[0m",
      "\u001b[0;31mKeyboardInterrupt\u001b[0m                         Traceback (most recent call last)",
      "\u001b[1;32m/Users/cooky/Documents/GitHub/cpp_rnn/asd.ipynb 셀 12\u001b[0m in \u001b[0;36m2\n\u001b[1;32m      <a href='vscode-notebook-cell:/Users/cooky/Documents/GitHub/cpp_rnn/asd.ipynb#X14sZmlsZQ%3D%3D?line=0'>1</a>\u001b[0m \u001b[39mwith\u001b[39;00m tf\u001b[39m.\u001b[39mdevice(\u001b[39m'\u001b[39m\u001b[39m/GPU:0\u001b[39m\u001b[39m'\u001b[39m):\n\u001b[0;32m----> <a href='vscode-notebook-cell:/Users/cooky/Documents/GitHub/cpp_rnn/asd.ipynb#X14sZmlsZQ%3D%3D?line=1'>2</a>\u001b[0m     model\u001b[39m.\u001b[39;49mfit(x\u001b[39m=\u001b[39;49mX_inputt, y\u001b[39m=\u001b[39;49my_outputt, validation_split\u001b[39m=\u001b[39;49m\u001b[39m0.1\u001b[39;49m, batch_size\u001b[39m=\u001b[39;49m\u001b[39m16\u001b[39;49m, epochs\u001b[39m=\u001b[39;49m\u001b[39m20\u001b[39;49m)\n",
      "File \u001b[0;32m~/miniforge3/lib/python3.10/site-packages/keras/utils/traceback_utils.py:65\u001b[0m, in \u001b[0;36mfilter_traceback.<locals>.error_handler\u001b[0;34m(*args, **kwargs)\u001b[0m\n\u001b[1;32m     63\u001b[0m filtered_tb \u001b[39m=\u001b[39m \u001b[39mNone\u001b[39;00m\n\u001b[1;32m     64\u001b[0m \u001b[39mtry\u001b[39;00m:\n\u001b[0;32m---> 65\u001b[0m     \u001b[39mreturn\u001b[39;00m fn(\u001b[39m*\u001b[39;49margs, \u001b[39m*\u001b[39;49m\u001b[39m*\u001b[39;49mkwargs)\n\u001b[1;32m     66\u001b[0m \u001b[39mexcept\u001b[39;00m \u001b[39mException\u001b[39;00m \u001b[39mas\u001b[39;00m e:\n\u001b[1;32m     67\u001b[0m     filtered_tb \u001b[39m=\u001b[39m _process_traceback_frames(e\u001b[39m.\u001b[39m__traceback__)\n",
      "File \u001b[0;32m~/miniforge3/lib/python3.10/site-packages/keras/engine/training.py:1729\u001b[0m, in \u001b[0;36mModel.fit\u001b[0;34m(self, x, y, batch_size, epochs, verbose, callbacks, validation_split, validation_data, shuffle, class_weight, sample_weight, initial_epoch, steps_per_epoch, validation_steps, validation_batch_size, validation_freq, max_queue_size, workers, use_multiprocessing)\u001b[0m\n\u001b[1;32m   1714\u001b[0m \u001b[39mif\u001b[39;00m \u001b[39mgetattr\u001b[39m(\u001b[39mself\u001b[39m, \u001b[39m\"\u001b[39m\u001b[39m_eval_data_handler\u001b[39m\u001b[39m\"\u001b[39m, \u001b[39mNone\u001b[39;00m) \u001b[39mis\u001b[39;00m \u001b[39mNone\u001b[39;00m:\n\u001b[1;32m   1715\u001b[0m     \u001b[39mself\u001b[39m\u001b[39m.\u001b[39m_eval_data_handler \u001b[39m=\u001b[39m data_adapter\u001b[39m.\u001b[39mget_data_handler(\n\u001b[1;32m   1716\u001b[0m         x\u001b[39m=\u001b[39mval_x,\n\u001b[1;32m   1717\u001b[0m         y\u001b[39m=\u001b[39mval_y,\n\u001b[0;32m   (...)\u001b[0m\n\u001b[1;32m   1727\u001b[0m         steps_per_execution\u001b[39m=\u001b[39m\u001b[39mself\u001b[39m\u001b[39m.\u001b[39m_steps_per_execution,\n\u001b[1;32m   1728\u001b[0m     )\n\u001b[0;32m-> 1729\u001b[0m val_logs \u001b[39m=\u001b[39m \u001b[39mself\u001b[39;49m\u001b[39m.\u001b[39;49mevaluate(\n\u001b[1;32m   1730\u001b[0m     x\u001b[39m=\u001b[39;49mval_x,\n\u001b[1;32m   1731\u001b[0m     y\u001b[39m=\u001b[39;49mval_y,\n\u001b[1;32m   1732\u001b[0m     sample_weight\u001b[39m=\u001b[39;49mval_sample_weight,\n\u001b[1;32m   1733\u001b[0m     batch_size\u001b[39m=\u001b[39;49mvalidation_batch_size \u001b[39mor\u001b[39;49;00m batch_size,\n\u001b[1;32m   1734\u001b[0m     steps\u001b[39m=\u001b[39;49mvalidation_steps,\n\u001b[1;32m   1735\u001b[0m     callbacks\u001b[39m=\u001b[39;49mcallbacks,\n\u001b[1;32m   1736\u001b[0m     max_queue_size\u001b[39m=\u001b[39;49mmax_queue_size,\n\u001b[1;32m   1737\u001b[0m     workers\u001b[39m=\u001b[39;49mworkers,\n\u001b[1;32m   1738\u001b[0m     use_multiprocessing\u001b[39m=\u001b[39;49muse_multiprocessing,\n\u001b[1;32m   1739\u001b[0m     return_dict\u001b[39m=\u001b[39;49m\u001b[39mTrue\u001b[39;49;00m,\n\u001b[1;32m   1740\u001b[0m     _use_cached_eval_dataset\u001b[39m=\u001b[39;49m\u001b[39mTrue\u001b[39;49;00m,\n\u001b[1;32m   1741\u001b[0m )\n\u001b[1;32m   1742\u001b[0m val_logs \u001b[39m=\u001b[39m {\n\u001b[1;32m   1743\u001b[0m     \u001b[39m\"\u001b[39m\u001b[39mval_\u001b[39m\u001b[39m\"\u001b[39m \u001b[39m+\u001b[39m name: val \u001b[39mfor\u001b[39;00m name, val \u001b[39min\u001b[39;00m val_logs\u001b[39m.\u001b[39mitems()\n\u001b[1;32m   1744\u001b[0m }\n\u001b[1;32m   1745\u001b[0m epoch_logs\u001b[39m.\u001b[39mupdate(val_logs)\n",
      "File \u001b[0;32m~/miniforge3/lib/python3.10/site-packages/keras/utils/traceback_utils.py:65\u001b[0m, in \u001b[0;36mfilter_traceback.<locals>.error_handler\u001b[0;34m(*args, **kwargs)\u001b[0m\n\u001b[1;32m     63\u001b[0m filtered_tb \u001b[39m=\u001b[39m \u001b[39mNone\u001b[39;00m\n\u001b[1;32m     64\u001b[0m \u001b[39mtry\u001b[39;00m:\n\u001b[0;32m---> 65\u001b[0m     \u001b[39mreturn\u001b[39;00m fn(\u001b[39m*\u001b[39;49margs, \u001b[39m*\u001b[39;49m\u001b[39m*\u001b[39;49mkwargs)\n\u001b[1;32m     66\u001b[0m \u001b[39mexcept\u001b[39;00m \u001b[39mException\u001b[39;00m \u001b[39mas\u001b[39;00m e:\n\u001b[1;32m     67\u001b[0m     filtered_tb \u001b[39m=\u001b[39m _process_traceback_frames(e\u001b[39m.\u001b[39m__traceback__)\n",
      "File \u001b[0;32m~/miniforge3/lib/python3.10/site-packages/keras/engine/training.py:2072\u001b[0m, in \u001b[0;36mModel.evaluate\u001b[0;34m(self, x, y, batch_size, verbose, sample_weight, steps, callbacks, max_queue_size, workers, use_multiprocessing, return_dict, **kwargs)\u001b[0m\n\u001b[1;32m   2068\u001b[0m \u001b[39mwith\u001b[39;00m tf\u001b[39m.\u001b[39mprofiler\u001b[39m.\u001b[39mexperimental\u001b[39m.\u001b[39mTrace(\n\u001b[1;32m   2069\u001b[0m     \u001b[39m\"\u001b[39m\u001b[39mtest\u001b[39m\u001b[39m\"\u001b[39m, step_num\u001b[39m=\u001b[39mstep, _r\u001b[39m=\u001b[39m\u001b[39m1\u001b[39m\n\u001b[1;32m   2070\u001b[0m ):\n\u001b[1;32m   2071\u001b[0m     callbacks\u001b[39m.\u001b[39mon_test_batch_begin(step)\n\u001b[0;32m-> 2072\u001b[0m     tmp_logs \u001b[39m=\u001b[39m \u001b[39mself\u001b[39;49m\u001b[39m.\u001b[39;49mtest_function(iterator)\n\u001b[1;32m   2073\u001b[0m     \u001b[39mif\u001b[39;00m data_handler\u001b[39m.\u001b[39mshould_sync:\n\u001b[1;32m   2074\u001b[0m         context\u001b[39m.\u001b[39masync_wait()\n",
      "File \u001b[0;32m~/miniforge3/lib/python3.10/site-packages/tensorflow/python/util/traceback_utils.py:150\u001b[0m, in \u001b[0;36mfilter_traceback.<locals>.error_handler\u001b[0;34m(*args, **kwargs)\u001b[0m\n\u001b[1;32m    148\u001b[0m filtered_tb \u001b[39m=\u001b[39m \u001b[39mNone\u001b[39;00m\n\u001b[1;32m    149\u001b[0m \u001b[39mtry\u001b[39;00m:\n\u001b[0;32m--> 150\u001b[0m   \u001b[39mreturn\u001b[39;00m fn(\u001b[39m*\u001b[39;49margs, \u001b[39m*\u001b[39;49m\u001b[39m*\u001b[39;49mkwargs)\n\u001b[1;32m    151\u001b[0m \u001b[39mexcept\u001b[39;00m \u001b[39mException\u001b[39;00m \u001b[39mas\u001b[39;00m e:\n\u001b[1;32m    152\u001b[0m   filtered_tb \u001b[39m=\u001b[39m _process_traceback_frames(e\u001b[39m.\u001b[39m__traceback__)\n",
      "File \u001b[0;32m~/miniforge3/lib/python3.10/site-packages/tensorflow/python/eager/polymorphic_function/polymorphic_function.py:894\u001b[0m, in \u001b[0;36mFunction.__call__\u001b[0;34m(self, *args, **kwds)\u001b[0m\n\u001b[1;32m    891\u001b[0m compiler \u001b[39m=\u001b[39m \u001b[39m\"\u001b[39m\u001b[39mxla\u001b[39m\u001b[39m\"\u001b[39m \u001b[39mif\u001b[39;00m \u001b[39mself\u001b[39m\u001b[39m.\u001b[39m_jit_compile \u001b[39melse\u001b[39;00m \u001b[39m\"\u001b[39m\u001b[39mnonXla\u001b[39m\u001b[39m\"\u001b[39m\n\u001b[1;32m    893\u001b[0m \u001b[39mwith\u001b[39;00m OptionalXlaContext(\u001b[39mself\u001b[39m\u001b[39m.\u001b[39m_jit_compile):\n\u001b[0;32m--> 894\u001b[0m   result \u001b[39m=\u001b[39m \u001b[39mself\u001b[39;49m\u001b[39m.\u001b[39;49m_call(\u001b[39m*\u001b[39;49margs, \u001b[39m*\u001b[39;49m\u001b[39m*\u001b[39;49mkwds)\n\u001b[1;32m    896\u001b[0m new_tracing_count \u001b[39m=\u001b[39m \u001b[39mself\u001b[39m\u001b[39m.\u001b[39mexperimental_get_tracing_count()\n\u001b[1;32m    897\u001b[0m without_tracing \u001b[39m=\u001b[39m (tracing_count \u001b[39m==\u001b[39m new_tracing_count)\n",
      "File \u001b[0;32m~/miniforge3/lib/python3.10/site-packages/tensorflow/python/eager/polymorphic_function/polymorphic_function.py:933\u001b[0m, in \u001b[0;36mFunction._call\u001b[0;34m(self, *args, **kwds)\u001b[0m\n\u001b[1;32m    930\u001b[0m \u001b[39mself\u001b[39m\u001b[39m.\u001b[39m_lock\u001b[39m.\u001b[39mrelease()\n\u001b[1;32m    931\u001b[0m \u001b[39m# In this case we have not created variables on the first call. So we can\u001b[39;00m\n\u001b[1;32m    932\u001b[0m \u001b[39m# run the first trace but we should fail if variables are created.\u001b[39;00m\n\u001b[0;32m--> 933\u001b[0m results \u001b[39m=\u001b[39m \u001b[39mself\u001b[39;49m\u001b[39m.\u001b[39;49m_variable_creation_fn(\u001b[39m*\u001b[39;49margs, \u001b[39m*\u001b[39;49m\u001b[39m*\u001b[39;49mkwds)\n\u001b[1;32m    934\u001b[0m \u001b[39mif\u001b[39;00m \u001b[39mself\u001b[39m\u001b[39m.\u001b[39m_created_variables \u001b[39mand\u001b[39;00m \u001b[39mnot\u001b[39;00m ALLOW_DYNAMIC_VARIABLE_CREATION:\n\u001b[1;32m    935\u001b[0m   \u001b[39mraise\u001b[39;00m \u001b[39mValueError\u001b[39;00m(\u001b[39m\"\u001b[39m\u001b[39mCreating variables on a non-first call to a function\u001b[39m\u001b[39m\"\u001b[39m\n\u001b[1;32m    936\u001b[0m                    \u001b[39m\"\u001b[39m\u001b[39m decorated with tf.function.\u001b[39m\u001b[39m\"\u001b[39m)\n",
      "File \u001b[0;32m~/miniforge3/lib/python3.10/site-packages/tensorflow/python/eager/polymorphic_function/tracing_compiler.py:142\u001b[0m, in \u001b[0;36mTracingCompiler.__call__\u001b[0;34m(self, *args, **kwargs)\u001b[0m\n\u001b[1;32m    139\u001b[0m \u001b[39m\"\"\"Calls a graph function specialized to the inputs.\"\"\"\u001b[39;00m\n\u001b[1;32m    140\u001b[0m \u001b[39mwith\u001b[39;00m \u001b[39mself\u001b[39m\u001b[39m.\u001b[39m_lock:\n\u001b[1;32m    141\u001b[0m   (concrete_function,\n\u001b[0;32m--> 142\u001b[0m    filtered_flat_args) \u001b[39m=\u001b[39m \u001b[39mself\u001b[39;49m\u001b[39m.\u001b[39;49m_maybe_define_function(args, kwargs)\n\u001b[1;32m    143\u001b[0m \u001b[39mreturn\u001b[39;00m concrete_function\u001b[39m.\u001b[39m_call_flat(\n\u001b[1;32m    144\u001b[0m     filtered_flat_args, captured_inputs\u001b[39m=\u001b[39mconcrete_function\u001b[39m.\u001b[39mcaptured_inputs)\n",
      "File \u001b[0;32m~/miniforge3/lib/python3.10/site-packages/tensorflow/python/eager/polymorphic_function/tracing_compiler.py:358\u001b[0m, in \u001b[0;36mTracingCompiler._maybe_define_function\u001b[0;34m(self, args, kwargs)\u001b[0m\n\u001b[1;32m    352\u001b[0m \u001b[39m# cache_key_deletion_observer is useless here. It's based on all captures.\u001b[39;00m\n\u001b[1;32m    353\u001b[0m \u001b[39m# A new cache key will be built later when saving ConcreteFunction because\u001b[39;00m\n\u001b[1;32m    354\u001b[0m \u001b[39m# only active captures should be saved.\u001b[39;00m\n\u001b[1;32m    355\u001b[0m lookup_func_type, lookup_func_context \u001b[39m=\u001b[39m (\n\u001b[1;32m    356\u001b[0m     \u001b[39mself\u001b[39m\u001b[39m.\u001b[39m_function_spec\u001b[39m.\u001b[39mmake_canonicalized_monomorphic_type(\n\u001b[1;32m    357\u001b[0m         args, kwargs, captures))\n\u001b[0;32m--> 358\u001b[0m concrete_function \u001b[39m=\u001b[39m \u001b[39mself\u001b[39;49m\u001b[39m.\u001b[39;49m_function_cache\u001b[39m.\u001b[39;49mlookup(current_func_context,\n\u001b[1;32m    359\u001b[0m                                                 lookup_func_type)\n\u001b[1;32m    360\u001b[0m \u001b[39mif\u001b[39;00m concrete_function \u001b[39mis\u001b[39;00m \u001b[39mnot\u001b[39;00m \u001b[39mNone\u001b[39;00m:\n\u001b[1;32m    361\u001b[0m   \u001b[39mreturn\u001b[39;00m concrete_function, filtered_flat_args\n",
      "File \u001b[0;32m~/miniforge3/lib/python3.10/site-packages/tensorflow/core/function/polymorphism/function_cache.py:50\u001b[0m, in \u001b[0;36mFunctionCache.lookup\u001b[0;34m(self, context, function_type)\u001b[0m\n\u001b[1;32m     48\u001b[0m \u001b[39m\"\"\"Looks up a concrete function based on the context and type.\"\"\"\u001b[39;00m\n\u001b[1;32m     49\u001b[0m \u001b[39mif\u001b[39;00m context \u001b[39min\u001b[39;00m \u001b[39mself\u001b[39m\u001b[39m.\u001b[39m_dispatch_dict:\n\u001b[0;32m---> 50\u001b[0m   dispatch_type \u001b[39m=\u001b[39m \u001b[39mself\u001b[39;49m\u001b[39m.\u001b[39;49m_dispatch_dict[context]\u001b[39m.\u001b[39;49mdispatch(function_type)\n\u001b[1;32m     51\u001b[0m   \u001b[39mif\u001b[39;00m dispatch_type:\n\u001b[1;32m     52\u001b[0m     \u001b[39mreturn\u001b[39;00m \u001b[39mself\u001b[39m\u001b[39m.\u001b[39m_primary[(context, dispatch_type)]\n",
      "File \u001b[0;32m~/miniforge3/lib/python3.10/site-packages/tensorflow/core/function/polymorphism/type_dispatch.py:80\u001b[0m, in \u001b[0;36mTypeDispatchTable.dispatch\u001b[0;34m(self, request)\u001b[0m\n\u001b[1;32m     78\u001b[0m \u001b[39m\"\"\"Returns the most specific supertype target if it exists in the table.\"\"\"\u001b[39;00m\n\u001b[1;32m     79\u001b[0m \u001b[39m# For known exact matches.\u001b[39;00m\n\u001b[0;32m---> 80\u001b[0m \u001b[39mif\u001b[39;00m request \u001b[39min\u001b[39;49;00m \u001b[39mself\u001b[39;49m\u001b[39m.\u001b[39;49m_dispatch_table:\n\u001b[1;32m     81\u001b[0m   \u001b[39mreturn\u001b[39;00m request\n\u001b[1;32m     83\u001b[0m \u001b[39m# For known non-exact matches.\u001b[39;00m\n\u001b[1;32m     84\u001b[0m \u001b[39m# (self._dispatch cache does not contain exact matches)\u001b[39;00m\n",
      "File \u001b[0;32m~/miniforge3/lib/python3.10/site-packages/tensorflow/core/function/polymorphism/function_type.py:314\u001b[0m, in \u001b[0;36mFunctionType.__hash__\u001b[0;34m(self)\u001b[0m\n\u001b[1;32m    313\u001b[0m \u001b[39mdef\u001b[39;00m \u001b[39m__hash__\u001b[39m(\u001b[39mself\u001b[39m) \u001b[39m-\u001b[39m\u001b[39m>\u001b[39m \u001b[39mint\u001b[39m:\n\u001b[0;32m--> 314\u001b[0m   \u001b[39mreturn\u001b[39;00m \u001b[39mhash\u001b[39;49m((\u001b[39mtuple\u001b[39;49m(\u001b[39mself\u001b[39;49m\u001b[39m.\u001b[39;49mparameters\u001b[39m.\u001b[39;49mitems()), \u001b[39mtuple\u001b[39;49m(\u001b[39mself\u001b[39;49m\u001b[39m.\u001b[39;49mcaptures\u001b[39m.\u001b[39;49mitems())))\n",
      "File \u001b[0;32m~/miniforge3/lib/python3.10/site-packages/tensorflow/core/function/polymorphism/function_type.py:144\u001b[0m, in \u001b[0;36mParameter.__hash__\u001b[0;34m(self)\u001b[0m\n\u001b[1;32m    143\u001b[0m \u001b[39mdef\u001b[39;00m \u001b[39m__hash__\u001b[39m(\u001b[39mself\u001b[39m):\n\u001b[0;32m--> 144\u001b[0m   \u001b[39mreturn\u001b[39;00m \u001b[39mhash\u001b[39;49m((\u001b[39mself\u001b[39;49m\u001b[39m.\u001b[39;49mname, \u001b[39mself\u001b[39;49m\u001b[39m.\u001b[39;49mkind, \u001b[39mself\u001b[39;49m\u001b[39m.\u001b[39;49moptional, \u001b[39mself\u001b[39;49m\u001b[39m.\u001b[39;49mtype_constraint))\n",
      "File \u001b[0;32m~/miniforge3/lib/python3.10/site-packages/tensorflow/python/framework/type_spec.py:516\u001b[0m, in \u001b[0;36mTypeSpec.__hash__\u001b[0;34m(self)\u001b[0m\n\u001b[1;32m    515\u001b[0m \u001b[39mdef\u001b[39;00m \u001b[39m__hash__\u001b[39m(\u001b[39mself\u001b[39m) \u001b[39m-\u001b[39m\u001b[39m>\u001b[39m \u001b[39mint\u001b[39m:\n\u001b[0;32m--> 516\u001b[0m   \u001b[39mreturn\u001b[39;00m \u001b[39mhash\u001b[39m(\u001b[39mself\u001b[39;49m\u001b[39m.\u001b[39;49m__get_cmp_key())\n",
      "File \u001b[0;32m~/miniforge3/lib/python3.10/site-packages/tensorflow/python/framework/type_spec.py:565\u001b[0m, in \u001b[0;36mTypeSpec.__get_cmp_key\u001b[0;34m(self)\u001b[0m\n\u001b[1;32m    563\u001b[0m \u001b[39m\"\"\"Returns a hashable eq-comparable key for `self`.\"\"\"\u001b[39;00m\n\u001b[1;32m    564\u001b[0m \u001b[39m# TODO(b/133606651): Decide whether to cache this value.\u001b[39;00m\n\u001b[0;32m--> 565\u001b[0m \u001b[39mreturn\u001b[39;00m (\u001b[39mtype\u001b[39m(\u001b[39mself\u001b[39m), \u001b[39mself\u001b[39;49m\u001b[39m.\u001b[39;49m__make_cmp_key(\u001b[39mself\u001b[39;49m\u001b[39m.\u001b[39;49m_serialize()))\n",
      "File \u001b[0;32m~/miniforge3/lib/python3.10/site-packages/tensorflow/python/framework/type_spec.py:583\u001b[0m, in \u001b[0;36mTypeSpec.__make_cmp_key\u001b[0;34m(self, value)\u001b[0m\n\u001b[1;32m    577\u001b[0m   \u001b[39mreturn\u001b[39;00m \u001b[39mtuple\u001b[39m([\n\u001b[1;32m    578\u001b[0m       \u001b[39mtuple\u001b[39m([\u001b[39mself\u001b[39m\u001b[39m.\u001b[39m__make_cmp_key(key),\n\u001b[1;32m    579\u001b[0m              \u001b[39mself\u001b[39m\u001b[39m.\u001b[39m__make_cmp_key(value[key])])\n\u001b[1;32m    580\u001b[0m       \u001b[39mfor\u001b[39;00m key \u001b[39min\u001b[39;00m \u001b[39msorted\u001b[39m(value\u001b[39m.\u001b[39mkeys())\n\u001b[1;32m    581\u001b[0m   ])\n\u001b[1;32m    582\u001b[0m \u001b[39mif\u001b[39;00m \u001b[39misinstance\u001b[39m(value, \u001b[39mtuple\u001b[39m):\n\u001b[0;32m--> 583\u001b[0m   \u001b[39mreturn\u001b[39;00m \u001b[39mtuple\u001b[39m([\u001b[39mself\u001b[39m\u001b[39m.\u001b[39m__make_cmp_key(v) \u001b[39mfor\u001b[39;00m v \u001b[39min\u001b[39;00m value])\n\u001b[1;32m    584\u001b[0m \u001b[39mif\u001b[39;00m \u001b[39misinstance\u001b[39m(value, \u001b[39mlist\u001b[39m):\n\u001b[1;32m    585\u001b[0m   \u001b[39mreturn\u001b[39;00m (\u001b[39mlist\u001b[39m, \u001b[39mtuple\u001b[39m([\u001b[39mself\u001b[39m\u001b[39m.\u001b[39m__make_cmp_key(v) \u001b[39mfor\u001b[39;00m v \u001b[39min\u001b[39;00m value]))\n",
      "File \u001b[0;32m~/miniforge3/lib/python3.10/site-packages/tensorflow/python/framework/type_spec.py:583\u001b[0m, in \u001b[0;36m<listcomp>\u001b[0;34m(.0)\u001b[0m\n\u001b[1;32m    577\u001b[0m   \u001b[39mreturn\u001b[39;00m \u001b[39mtuple\u001b[39m([\n\u001b[1;32m    578\u001b[0m       \u001b[39mtuple\u001b[39m([\u001b[39mself\u001b[39m\u001b[39m.\u001b[39m__make_cmp_key(key),\n\u001b[1;32m    579\u001b[0m              \u001b[39mself\u001b[39m\u001b[39m.\u001b[39m__make_cmp_key(value[key])])\n\u001b[1;32m    580\u001b[0m       \u001b[39mfor\u001b[39;00m key \u001b[39min\u001b[39;00m \u001b[39msorted\u001b[39m(value\u001b[39m.\u001b[39mkeys())\n\u001b[1;32m    581\u001b[0m   ])\n\u001b[1;32m    582\u001b[0m \u001b[39mif\u001b[39;00m \u001b[39misinstance\u001b[39m(value, \u001b[39mtuple\u001b[39m):\n\u001b[0;32m--> 583\u001b[0m   \u001b[39mreturn\u001b[39;00m \u001b[39mtuple\u001b[39m([\u001b[39mself\u001b[39;49m\u001b[39m.\u001b[39;49m__make_cmp_key(v) \u001b[39mfor\u001b[39;00m v \u001b[39min\u001b[39;00m value])\n\u001b[1;32m    584\u001b[0m \u001b[39mif\u001b[39;00m \u001b[39misinstance\u001b[39m(value, \u001b[39mlist\u001b[39m):\n\u001b[1;32m    585\u001b[0m   \u001b[39mreturn\u001b[39;00m (\u001b[39mlist\u001b[39m, \u001b[39mtuple\u001b[39m([\u001b[39mself\u001b[39m\u001b[39m.\u001b[39m__make_cmp_key(v) \u001b[39mfor\u001b[39;00m v \u001b[39min\u001b[39;00m value]))\n",
      "File \u001b[0;32m~/miniforge3/lib/python3.10/site-packages/tensorflow/python/framework/type_spec.py:569\u001b[0m, in \u001b[0;36mTypeSpec.__make_cmp_key\u001b[0;34m(self, value)\u001b[0m\n\u001b[1;32m    567\u001b[0m \u001b[39mdef\u001b[39;00m \u001b[39m__make_cmp_key\u001b[39m(\u001b[39mself\u001b[39m, value):\n\u001b[1;32m    568\u001b[0m   \u001b[39m\"\"\"Converts `value` to a hashable key.\"\"\"\u001b[39;00m\n\u001b[0;32m--> 569\u001b[0m   \u001b[39mif\u001b[39;00m \u001b[39misinstance\u001b[39;49m(value, (\u001b[39mint\u001b[39;49m, \u001b[39mfloat\u001b[39;49m, \u001b[39mbool\u001b[39;49m, np\u001b[39m.\u001b[39;49mgeneric, dtypes\u001b[39m.\u001b[39;49mDType, TypeSpec,\n\u001b[1;32m    570\u001b[0m                         tensor_shape\u001b[39m.\u001b[39;49mTensorShape)):\n\u001b[1;32m    571\u001b[0m     \u001b[39mreturn\u001b[39;00m value\n\u001b[1;32m    572\u001b[0m   \u001b[39mif\u001b[39;00m \u001b[39misinstance\u001b[39m(value, compat\u001b[39m.\u001b[39mbytes_or_text_types):\n",
      "File \u001b[0;32m~/miniforge3/lib/python3.10/abc.py:117\u001b[0m, in \u001b[0;36mABCMeta.__instancecheck__\u001b[0;34m(cls, instance)\u001b[0m\n\u001b[1;32m    111\u001b[0m     \u001b[39m\"\"\"Register a virtual subclass of an ABC.\u001b[39;00m\n\u001b[1;32m    112\u001b[0m \n\u001b[1;32m    113\u001b[0m \u001b[39m    Returns the subclass, to allow usage as a class decorator.\u001b[39;00m\n\u001b[1;32m    114\u001b[0m \u001b[39m    \"\"\"\u001b[39;00m\n\u001b[1;32m    115\u001b[0m     \u001b[39mreturn\u001b[39;00m _abc_register(\u001b[39mcls\u001b[39m, subclass)\n\u001b[0;32m--> 117\u001b[0m \u001b[39mdef\u001b[39;00m \u001b[39m__instancecheck__\u001b[39m(\u001b[39mcls\u001b[39m, instance):\n\u001b[1;32m    118\u001b[0m     \u001b[39m\"\"\"Override for isinstance(instance, cls).\"\"\"\u001b[39;00m\n\u001b[1;32m    119\u001b[0m     \u001b[39mreturn\u001b[39;00m _abc_instancecheck(\u001b[39mcls\u001b[39m, instance)\n",
      "\u001b[0;31mKeyboardInterrupt\u001b[0m: "
     ]
    }
   ],
   "source": [
    "with tf.device('/GPU:0'):\n",
    "    model.fit(x=X_inputt, y=y_outputt, validation_split=0.1, batch_size=16, epochs=20)"
   ]
  },
  {
   "cell_type": "code",
   "execution_count": 15,
   "metadata": {},
   "outputs": [
    {
     "data": {
      "text/plain": [
       "829951"
      ]
     },
     "execution_count": 15,
     "metadata": {},
     "output_type": "execute_result"
    }
   ],
   "source": [
    "X_input.shape[0]"
   ]
  },
  {
   "cell_type": "code",
   "execution_count": null,
   "metadata": {},
   "outputs": [],
   "source": []
  }
 ],
 "metadata": {
  "kernelspec": {
   "display_name": "base",
   "language": "python",
   "name": "python3"
  },
  "language_info": {
   "codemirror_mode": {
    "name": "ipython",
    "version": 3
   },
   "file_extension": ".py",
   "mimetype": "text/x-python",
   "name": "python",
   "nbconvert_exporter": "python",
   "pygments_lexer": "ipython3",
   "version": "3.10.12"
  },
  "orig_nbformat": 4
 },
 "nbformat": 4,
 "nbformat_minor": 2
}
